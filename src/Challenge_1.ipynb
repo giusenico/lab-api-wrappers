{
 "cells": [
  {
   "cell_type": "markdown",
   "id": "bd0a3905-b346-43d5-9791-d3869299eb9d",
   "metadata": {},
   "source": [
    "# API wrappers"
   ]
  },
  {
   "cell_type": "markdown",
   "id": "327b4075-5374-4ecf-b8c5-c106d20d80e1",
   "metadata": {},
   "source": [
    "The OpenWeatherMap offers REST endpoints for querying current weather, forecasts, historical data, etc. However, accessing this data directly via the REST API requires handling multiple API calls, query parameters, and response parsing. The pyowm library abstracts these complexities and provides useful built-in functionalities."
   ]
  },
  {
   "cell_type": "markdown",
   "id": "1d731d49-fd79-44c8-8f72-68194c99fec0",
   "metadata": {},
   "source": [
    "After signing in to OpenWeatherMap retrieve your api key at https://home.openweathermap.org/api_keys\n",
    "\n",
    "You will also need to install the pyowm package: pip install pyowm "
   ]
  },
  {
   "cell_type": "code",
   "execution_count": 23,
   "id": "63b327b1-338b-4b14-a5b5-1bd8741da64b",
   "metadata": {},
   "outputs": [],
   "source": [
    "import requests\n",
    "import pyowm\n",
    "import json\n",
    "from getpass import getpass\n",
    "\n",
    "api_key = getpass(\"Enter your API Key: \").strip()"
   ]
  },
  {
   "cell_type": "markdown",
   "id": "f73d3029-c6a6-43b9-81a9-0e81c13bdf09",
   "metadata": {},
   "source": [
    "## use case 1: managing API keys\n",
    "\n",
    "In a raw rest API call you always have to manage credentials in each individual call. Wrappers usually store and manage the authentication for you"
   ]
  },
  {
   "cell_type": "code",
   "execution_count": 24,
   "id": "afbcdf71-845e-4aae-b8cc-8963745f7d4b",
   "metadata": {},
   "outputs": [
    {
     "data": {
      "text/plain": [
       "{'coord': {'lon': -0.1257, 'lat': 51.5085},\n",
       " 'weather': [{'id': 804,\n",
       "   'main': 'Clouds',\n",
       "   'description': 'overcast clouds',\n",
       "   'icon': '04d'}],\n",
       " 'base': 'stations',\n",
       " 'main': {'temp': 285.97,\n",
       "  'feels_like': 285.63,\n",
       "  'temp_min': 284.74,\n",
       "  'temp_max': 287.03,\n",
       "  'pressure': 1032,\n",
       "  'humidity': 89,\n",
       "  'sea_level': 1032,\n",
       "  'grnd_level': 1028},\n",
       " 'visibility': 10000,\n",
       " 'wind': {'speed': 1.34, 'deg': 241, 'gust': 3.13},\n",
       " 'clouds': {'all': 100},\n",
       " 'dt': 1729674037,\n",
       " 'sys': {'type': 2,\n",
       "  'id': 2091269,\n",
       "  'country': 'GB',\n",
       "  'sunrise': 1729665516,\n",
       "  'sunset': 1729702241},\n",
       " 'timezone': 3600,\n",
       " 'id': 2643743,\n",
       " 'name': 'London',\n",
       " 'cod': 200}"
      ]
     },
     "execution_count": 24,
     "metadata": {},
     "output_type": "execute_result"
    }
   ],
   "source": [
    "#You can get current weather data by making a GET request to an endpoint like:\n",
    "\n",
    "params = {\n",
    "    'appid' : api_key\n",
    "}\n",
    "\n",
    "response = requests.get('https://api.openweathermap.org/data/2.5/weather?q=London', params = params)\n",
    "\n",
    "json.loads(response.text)\n",
    "\n",
    "#but for every call you make using GET from now on you do need to add the parameters, since the raw API does not manage authentication for you"
   ]
  },
  {
   "cell_type": "markdown",
   "id": "b82c585b-fd83-4f59-9d46-14225f3e5037",
   "metadata": {},
   "source": [
    "Most wrappers (pyowm included) include some way of initializing a session with the authentication key that you then don't need to type again.\n",
    "\n",
    "Initialize pyowm with the default configuration. Thenopen the weather manager\n",
    "\n",
    "Check out a snippet here: https://pyowm.readthedocs.io/en/latest/v3/code-recipes.html#weather_data"
   ]
  },
  {
   "cell_type": "code",
   "execution_count": 25,
   "id": "f376d466-5a69-4a47-b35d-1870cbef61ff",
   "metadata": {},
   "outputs": [
    {
     "data": {
      "text/plain": [
       "'overcast clouds'"
      ]
     },
     "execution_count": 25,
     "metadata": {},
     "output_type": "execute_result"
    }
   ],
   "source": [
    "#your code here\n",
    "\n",
    "from pyowm.owm import OWM\n",
    "owm = OWM(api_key)\n",
    "mgr = owm.weather_manager()\n",
    "\n",
    "observation = mgr.weather_at_place('London,GB')  # the observation object is a box containing a weather object\n",
    "weather = observation.weather\n",
    "weather.status           # short version of status (eg. 'Rain')\n",
    "weather.detailed_status  # detailed version of status (eg. 'light rain')"
   ]
  },
  {
   "cell_type": "markdown",
   "id": "840060e4-d3de-4b96-bb03-5bce02003f1d",
   "metadata": {},
   "source": [
    "## use case 2: Simplified calls\n",
    "\n",
    "With the raw REST API, you'd have to build a URL manually, send the request, and parse the JSON response to get the current weather."
   ]
  },
  {
   "cell_type": "code",
   "execution_count": 26,
   "id": "a2aa8395-0bed-4098-8881-0ffe93541b1f",
   "metadata": {},
   "outputs": [
    {
     "name": "stdout",
     "output_type": "stream",
     "text": [
      "Temperature: 285.97°C, Humidity: 89%, Wind Speed: 1.34 m/s\n"
     ]
    }
   ],
   "source": [
    "city = 'London'\n",
    "url = f'http://api.openweathermap.org/data/2.5/weather?q={city}'\n",
    "\n",
    "response = requests.get(url,params= params)\n",
    "data = response.json()\n",
    "temperature = data['main']['temp']\n",
    "humidity = data['main']['humidity']\n",
    "wind_speed = data['wind']['speed']\n",
    "\n",
    "print(f\"Temperature: {temperature}°C, Humidity: {humidity}%, Wind Speed: {wind_speed} m/s\")"
   ]
  },
  {
   "cell_type": "markdown",
   "id": "df5bc6df-bfb2-416d-8d06-3961d3a12234",
   "metadata": {},
   "source": [
    "Get the equivalent call as above for the city of London using the pyowm package"
   ]
  },
  {
   "cell_type": "code",
   "execution_count": 27,
   "id": "d1986770-4628-480b-b587-9ff5c42d301c",
   "metadata": {},
   "outputs": [
    {
     "name": "stdout",
     "output_type": "stream",
     "text": [
      "Temperature: 12.82°C, Humidity: 89%, Wind Speed: 1.34 m/s\n"
     ]
    }
   ],
   "source": [
    "#your code here\n",
    "\n",
    "observation = mgr.weather_at_place('London,GB')\n",
    "weather = observation.weather\n",
    "\n",
    "temperature = weather.temperature('celsius')['temp']\n",
    "humidity = weather.humidity  \n",
    "wind_speed = weather.wind()['speed']\n",
    "\n",
    "print(f\"Temperature: {temperature}°C, Humidity: {humidity}%, Wind Speed: {wind_speed} m/s\")\n"
   ]
  },
  {
   "cell_type": "markdown",
   "id": "7e7b93b2-c383-4e49-8fce-a0923ac59031",
   "metadata": {},
   "source": [
    "## use case 3: Combining and chaining calls\n",
    "\n",
    "Wrappers often offer methods that make multiple calls to batch requests that make sense to batch. And often they offer methods that make sequences of calls that each returns information necessary to make the next call."
   ]
  },
  {
   "cell_type": "markdown",
   "id": "8f4a6b6c-f397-48ce-a3ef-f88e1fb95eb9",
   "metadata": {},
   "source": [
    "For example, to get a weather forecast for a specific city using the raw API you need to first geocode the city to get its latitude and longitude:"
   ]
  },
  {
   "cell_type": "code",
   "execution_count": 28,
   "id": "d182cf31-80f8-4b61-8de0-897d2d6479d7",
   "metadata": {},
   "outputs": [],
   "source": [
    "city = 'New York'\n",
    "geocode_url = f'http://api.openweathermap.org/data/2.5/weather?q={city}'\n",
    "geocode_response = requests.get(geocode_url,params=params).json()\n",
    "\n",
    "lat = geocode_response['coord']['lat']\n",
    "lon = geocode_response['coord']['lon']"
   ]
  },
  {
   "cell_type": "markdown",
   "id": "547c5deb-1070-4b72-b035-32ea5a615eda",
   "metadata": {},
   "source": [
    "Then, request the weather forecast for that latitude/longitude:"
   ]
  },
  {
   "cell_type": "code",
   "execution_count": 29,
   "id": "03737eff-cbc6-412f-b6a1-03e28b39b1e4",
   "metadata": {},
   "outputs": [
    {
     "name": "stdout",
     "output_type": "stream",
     "text": [
      "Time: 2024-10-23 12:00:00, Temp: 288.78°C\n",
      "Time: 2024-10-23 15:00:00, Temp: 291.48°C\n",
      "Time: 2024-10-23 18:00:00, Temp: 296.66°C\n",
      "Time: 2024-10-23 21:00:00, Temp: 296.87°C\n",
      "Time: 2024-10-24 00:00:00, Temp: 293.6°C\n",
      "Time: 2024-10-24 03:00:00, Temp: 292.01°C\n",
      "Time: 2024-10-24 06:00:00, Temp: 291.48°C\n",
      "Time: 2024-10-24 09:00:00, Temp: 290.06°C\n",
      "Time: 2024-10-24 12:00:00, Temp: 287.28°C\n",
      "Time: 2024-10-24 15:00:00, Temp: 288.52°C\n",
      "Time: 2024-10-24 18:00:00, Temp: 291.34°C\n",
      "Time: 2024-10-24 21:00:00, Temp: 291.41°C\n",
      "Time: 2024-10-25 00:00:00, Temp: 288.64°C\n",
      "Time: 2024-10-25 03:00:00, Temp: 286.02°C\n",
      "Time: 2024-10-25 06:00:00, Temp: 284.88°C\n",
      "Time: 2024-10-25 09:00:00, Temp: 283.69°C\n",
      "Time: 2024-10-25 12:00:00, Temp: 283.24°C\n",
      "Time: 2024-10-25 15:00:00, Temp: 286.2°C\n",
      "Time: 2024-10-25 18:00:00, Temp: 288.42°C\n",
      "Time: 2024-10-25 21:00:00, Temp: 288.41°C\n",
      "Time: 2024-10-26 00:00:00, Temp: 288.42°C\n",
      "Time: 2024-10-26 03:00:00, Temp: 287.77°C\n",
      "Time: 2024-10-26 06:00:00, Temp: 287.44°C\n",
      "Time: 2024-10-26 09:00:00, Temp: 287.46°C\n",
      "Time: 2024-10-26 12:00:00, Temp: 287.82°C\n",
      "Time: 2024-10-26 15:00:00, Temp: 290.64°C\n",
      "Time: 2024-10-26 18:00:00, Temp: 291.62°C\n",
      "Time: 2024-10-26 21:00:00, Temp: 290.56°C\n",
      "Time: 2024-10-27 00:00:00, Temp: 286.8°C\n",
      "Time: 2024-10-27 03:00:00, Temp: 284.65°C\n",
      "Time: 2024-10-27 06:00:00, Temp: 283.59°C\n",
      "Time: 2024-10-27 09:00:00, Temp: 282.27°C\n",
      "Time: 2024-10-27 12:00:00, Temp: 281.65°C\n",
      "Time: 2024-10-27 15:00:00, Temp: 283.6°C\n",
      "Time: 2024-10-27 18:00:00, Temp: 287.17°C\n",
      "Time: 2024-10-27 21:00:00, Temp: 287.91°C\n",
      "Time: 2024-10-28 00:00:00, Temp: 286.53°C\n",
      "Time: 2024-10-28 03:00:00, Temp: 282.99°C\n",
      "Time: 2024-10-28 06:00:00, Temp: 280.81°C\n",
      "Time: 2024-10-28 09:00:00, Temp: 278.67°C\n"
     ]
    }
   ],
   "source": [
    "forecast_url = f'http://api.openweathermap.org/data/2.5/forecast?lat={lat}&lon={lon}'\n",
    "forecast_response = requests.get(forecast_url, params=params).json()\n",
    "\n",
    "for entry in forecast_response['list']:\n",
    "    print(f\"Time: {entry['dt_txt']}, Temp: {entry['main']['temp']}°C\")"
   ]
  },
  {
   "cell_type": "markdown",
   "id": "f75ab558-7500-40fa-a4aa-93a18053059a",
   "metadata": {},
   "source": [
    "Two calls: one for geocoding, one for forecasts.\n",
    "But with pyowm, because this is a common operation, there is a method that handles the geocoding internally and then fetches the weather forecast in one step.\n",
    "\n",
    "Get the above forecast in a single call using pyowm.\n",
    "\n",
    "Hint: search for \"forecast_at_place\" in the code recipies of the documentation"
   ]
  },
  {
   "cell_type": "code",
   "execution_count": 30,
   "id": "11e3c1a8-260d-467c-8f47-793fd62a239b",
   "metadata": {},
   "outputs": [
    {
     "name": "stdout",
     "output_type": "stream",
     "text": [
      "Time: 2024-10-23 12:00:00+00:00, Status: clear sky, Temperature: 15.53°C\n",
      "Time: 2024-10-23 15:00:00+00:00, Status: scattered clouds, Temperature: 18.28°C\n",
      "Time: 2024-10-23 18:00:00+00:00, Status: few clouds, Temperature: 23.51°C\n",
      "Time: 2024-10-23 21:00:00+00:00, Status: clear sky, Temperature: 23.72°C\n",
      "Time: 2024-10-24 00:00:00+00:00, Status: clear sky, Temperature: 20.45°C\n",
      "Time: 2024-10-24 03:00:00+00:00, Status: clear sky, Temperature: 18.86°C\n",
      "Time: 2024-10-24 06:00:00+00:00, Status: clear sky, Temperature: 18.33°C\n",
      "Time: 2024-10-24 09:00:00+00:00, Status: broken clouds, Temperature: 16.91°C\n",
      "Time: 2024-10-24 12:00:00+00:00, Status: broken clouds, Temperature: 14.13°C\n",
      "Time: 2024-10-24 15:00:00+00:00, Status: scattered clouds, Temperature: 15.37°C\n",
      "Time: 2024-10-24 18:00:00+00:00, Status: few clouds, Temperature: 18.19°C\n",
      "Time: 2024-10-24 21:00:00+00:00, Status: clear sky, Temperature: 18.26°C\n",
      "Time: 2024-10-25 00:00:00+00:00, Status: clear sky, Temperature: 15.49°C\n",
      "Time: 2024-10-25 03:00:00+00:00, Status: clear sky, Temperature: 12.87°C\n",
      "Time: 2024-10-25 06:00:00+00:00, Status: clear sky, Temperature: 11.73°C\n",
      "Time: 2024-10-25 09:00:00+00:00, Status: clear sky, Temperature: 10.54°C\n",
      "Time: 2024-10-25 12:00:00+00:00, Status: clear sky, Temperature: 10.09°C\n",
      "Time: 2024-10-25 15:00:00+00:00, Status: few clouds, Temperature: 13.05°C\n",
      "Time: 2024-10-25 18:00:00+00:00, Status: clear sky, Temperature: 15.27°C\n",
      "Time: 2024-10-25 21:00:00+00:00, Status: clear sky, Temperature: 15.26°C\n",
      "Time: 2024-10-26 00:00:00+00:00, Status: clear sky, Temperature: 15.27°C\n",
      "Time: 2024-10-26 03:00:00+00:00, Status: few clouds, Temperature: 14.62°C\n",
      "Time: 2024-10-26 06:00:00+00:00, Status: scattered clouds, Temperature: 14.29°C\n",
      "Time: 2024-10-26 09:00:00+00:00, Status: overcast clouds, Temperature: 14.31°C\n",
      "Time: 2024-10-26 12:00:00+00:00, Status: overcast clouds, Temperature: 14.67°C\n",
      "Time: 2024-10-26 15:00:00+00:00, Status: overcast clouds, Temperature: 17.49°C\n",
      "Time: 2024-10-26 18:00:00+00:00, Status: broken clouds, Temperature: 18.47°C\n",
      "Time: 2024-10-26 21:00:00+00:00, Status: clear sky, Temperature: 17.41°C\n",
      "Time: 2024-10-27 00:00:00+00:00, Status: clear sky, Temperature: 13.65°C\n",
      "Time: 2024-10-27 03:00:00+00:00, Status: clear sky, Temperature: 11.5°C\n",
      "Time: 2024-10-27 06:00:00+00:00, Status: clear sky, Temperature: 10.44°C\n",
      "Time: 2024-10-27 09:00:00+00:00, Status: overcast clouds, Temperature: 9.12°C\n",
      "Time: 2024-10-27 12:00:00+00:00, Status: overcast clouds, Temperature: 8.5°C\n",
      "Time: 2024-10-27 15:00:00+00:00, Status: overcast clouds, Temperature: 10.45°C\n",
      "Time: 2024-10-27 18:00:00+00:00, Status: broken clouds, Temperature: 14.02°C\n",
      "Time: 2024-10-27 21:00:00+00:00, Status: clear sky, Temperature: 14.76°C\n",
      "Time: 2024-10-28 00:00:00+00:00, Status: clear sky, Temperature: 13.38°C\n",
      "Time: 2024-10-28 03:00:00+00:00, Status: clear sky, Temperature: 9.84°C\n",
      "Time: 2024-10-28 06:00:00+00:00, Status: scattered clouds, Temperature: 7.66°C\n",
      "Time: 2024-10-28 09:00:00+00:00, Status: clear sky, Temperature: 5.52°C\n"
     ]
    }
   ],
   "source": [
    "#your code here\n",
    "\n",
    "forecast = mgr.forecast_at_place('New York,US', '3h')\n",
    "\n",
    "for weather in forecast.forecast:\n",
    "    time = weather.reference_time('iso')\n",
    "    detailed_status = weather.detailed_status\n",
    "    temperature = weather.temperature('celsius')['temp']\n",
    "    \n",
    "    print(f\"Time: {time}, Status: {detailed_status}, Temperature: {temperature}°C\")\n"
   ]
  },
  {
   "cell_type": "markdown",
   "id": "7ab2b0cc-0d16-4da5-be3e-b8466faecca3",
   "metadata": {},
   "source": [
    "## use case 4: Convenience methods\n",
    "\n",
    "Wrappers often offer built-in methods to handle common kinds of tasks related to the APIs, reducing the need for manual calculations.\n",
    "\n",
    "for example converting units (e.g., temperature from Celsius to Fahrenheit) or working with more complex data requires manual conversion when using the raw API."
   ]
  },
  {
   "cell_type": "code",
   "execution_count": 31,
   "id": "c8e68dad-a503-49cf-9c1e-72e9ed1fab3d",
   "metadata": {},
   "outputs": [
    {
     "name": "stdout",
     "output_type": "stream",
     "text": [
      "Temperature in Celsius: 285.97°C, Fahrenheit: 546.7460000000001°F\n"
     ]
    }
   ],
   "source": [
    "city = 'London'\n",
    "url = f'http://api.openweathermap.org/data/2.5/weather?q={city}&appid={api_key}'\n",
    "\n",
    "response = requests.get(url)\n",
    "data = response.json()\n",
    "temperature_celsius = data['main']['temp']\n",
    "temperature_fahrenheit = (temperature_celsius * 9/5) + 32\n",
    "\n",
    "print(f\"Temperature in Celsius: {temperature_celsius}°C, Fahrenheit: {temperature_fahrenheit}°F\")"
   ]
  },
  {
   "cell_type": "markdown",
   "id": "9b05658c-e9cb-491d-8554-ab4d6dd56e1d",
   "metadata": {},
   "source": [
    "But the pyowm wrapper offers built-in methods to handle these kinds of tasks, reducing the need for manual calculations.\n",
    "Get the temperature both in Celcius and Farenheit using pyowm. Navigate the code recipes to figure out the inbuilt methods for this."
   ]
  },
  {
   "cell_type": "code",
   "execution_count": 32,
   "id": "4695bb83-bc35-4c1b-b390-5ea2027984ef",
   "metadata": {},
   "outputs": [
    {
     "name": "stdout",
     "output_type": "stream",
     "text": [
      "Temperature in Celsius: 12.89°C, Fahrenheit: 55.2°F\n"
     ]
    }
   ],
   "source": [
    "#your code here\n",
    "\n",
    "observation = mgr.weather_at_place('London,GB')\n",
    "weather = observation.weather\n",
    "\n",
    "temperature_celsius = weather.temperature('celsius')['temp']\n",
    "temperature_fahrenheit = weather.temperature('fahrenheit')['temp']\n",
    "\n",
    "print(f\"Temperature in Celsius: {temperature_celsius}°C, Fahrenheit: {temperature_fahrenheit}°F\")\n"
   ]
  }
 ],
 "metadata": {
  "kernelspec": {
   "display_name": "base",
   "language": "python",
   "name": "python3"
  },
  "language_info": {
   "codemirror_mode": {
    "name": "ipython",
    "version": 3
   },
   "file_extension": ".py",
   "mimetype": "text/x-python",
   "name": "python",
   "nbconvert_exporter": "python",
   "pygments_lexer": "ipython3",
   "version": "3.12.4"
  }
 },
 "nbformat": 4,
 "nbformat_minor": 5
}
